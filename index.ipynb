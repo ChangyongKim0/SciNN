{
 "cells": [
  {
   "cell_type": "markdown",
   "metadata": {},
   "source": [
    "import packages"
   ]
  },
  {
   "cell_type": "code",
   "execution_count": null,
   "metadata": {},
   "outputs": [],
   "source": [
    "import SciNN as s\n",
    "import numpy as np\n",
    "import os\n",
    "# from IPython.display import clear_output\n",
    "import copy\n",
    "import random\n",
    "import csv\n",
    "import matplotlib.pyplot as plt\n",
    "import pngToMp4 as p"
   ]
  },
  {
   "cell_type": "markdown",
   "metadata": {},
   "source": [
    "set factors"
   ]
  },
  {
   "cell_type": "code",
   "execution_count": null,
   "metadata": {},
   "outputs": [],
   "source": [
    "INPUT_COLOR_DIMENSION = 3  # 변경하면 안됨\n",
    "INPUT_ENV_DIMENSION = 1\n",
    "OUPUT_MOVEMENT_DIMENSION = 2  # 변경하면 안됨\n",
    "OUPUT_IRRELAVENT_DIMENSION = 1\n",
    "\n",
    "INTERNAL_NEURON_LENGTH = 20\n",
    "TRAIN_EPOCH = 400\n",
    "TEST_EPOCH = 100\n",
    "INPUT_ENV_VOLATILITY = 0.01\n",
    "\n",
    "LIGHT_EXPOSURE_TIME = 10\n",
    "WAITING_TIME = 20\n",
    "\n",
    "RED_COLOR_EXPOSURE_PROB = 1/3\n",
    "BLUE_COLOR_EXPOSURE_PROB = 1/3 # < 1 - RED_COLOR_EXPOSURE_PROB\n",
    "\n",
    "CORRECT_LOSS_LIMIT = 0.05\n",
    "\n",
    "SAVE_LEARNING_HISTORY_FILE_NAME = \"output\"\n",
    "SAVE_HEATMAP_FILE_NAME = \"output_heatmap\"\n",
    "\n",
    "if not os.path.isdir(f\"output/{SAVE_HEATMAP_FILE_NAME}\"):\n",
    "    os.mkdir(f\"output/{SAVE_HEATMAP_FILE_NAME}\")"
   ]
  },
  {
   "cell_type": "markdown",
   "metadata": {},
   "source": [
    "set new PANN model"
   ]
  },
  {
   "cell_type": "code",
   "execution_count": null,
   "metadata": {},
   "outputs": [],
   "source": [
    "output_length = OUPUT_MOVEMENT_DIMENSION + OUPUT_IRRELAVENT_DIMENSION\n",
    "input_ext_length = INPUT_COLOR_DIMENSION + INPUT_ENV_DIMENSION\n",
    "input_length = input_ext_length + output_length\n",
    "\n",
    "a = s.SciNN(input_length)\n",
    "a.addLayer(INTERNAL_NEURON_LENGTH)\n",
    "a.addLayer(output_length)\n",
    "a.initializeWeight()\n",
    "a.setActivationFunction(\"tanh\")\n",
    "a.setLossFunction(\"mse\")"
   ]
  },
  {
   "cell_type": "markdown",
   "metadata": {},
   "source": [
    "set random input-target generating function"
   ]
  },
  {
   "cell_type": "code",
   "execution_count": null,
   "metadata": {},
   "outputs": [],
   "source": [
    "temp_red_prob = RED_COLOR_EXPOSURE_PROB - (1-RED_COLOR_EXPOSURE_PROB-BLUE_COLOR_EXPOSURE_PROB)/25\n",
    "temp_blue_prob = BLUE_COLOR_EXPOSURE_PROB - (1-RED_COLOR_EXPOSURE_PROB-BLUE_COLOR_EXPOSURE_PROB)/25\n",
    "\n",
    "def generateFn():\n",
    "    p = random.random()\n",
    "    if p < temp_red_prob:\n",
    "        return {\"input_color\": [1-random.random()/3, random.random()/3, random.random()/3], \"target_vector\": [1,0]}\n",
    "    elif p < temp_red_prob + temp_blue_prob:\n",
    "        return {\"input_color\": [random.random()/3, random.random()/3, 1-random.random()/3], \"target_vector\": [0,1]}\n",
    "    else:\n",
    "        input_color = [random.random(), random.random(), random.random()]\n",
    "        target_vector = []\n",
    "        if input_color[0] > 2/3 and input_color[1] < 1/3 and input_color[2] < 1/3:\n",
    "            target_vector = [1,0]\n",
    "        elif input_color[0] < 1/3 and input_color[1] < 1/3 and input_color[2] > 2/3:\n",
    "            target_vector = [0,1]\n",
    "        else:\n",
    "            target_vector = [0,0]\n",
    "        return {\"input_color\": input_color, \"target_vector\": target_vector}"
   ]
  },
  {
   "cell_type": "markdown",
   "metadata": {},
   "source": [
    "activate model"
   ]
  },
  {
   "cell_type": "code",
   "execution_count": null,
   "metadata": {},
   "outputs": [],
   "source": [
    "\n",
    "input_color = []\n",
    "input_env = [random.random() for env in range(INPUT_ENV_DIMENSION)]\n",
    "# t-L-1 ~ t-1 범위의 과거 output 저장\n",
    "output_vector_list_prev = [[0 for i in range(output_length)] for l in range(a.layer_depth+1)]\n",
    "f = open(f\"output/{SAVE_LEARNING_HISTORY_FILE_NAME}.csv\",\"w\",encoding=\"utf-8\",newline=\"\")\n",
    "wr = csv.writer(f)\n",
    "wr.writerow([\"no\", \"iteration\", \"input_color\", \"input_env\", \"time\", \"loss\", \"success\", \"correct_count\"])\n",
    "\n",
    "for ep in range(TRAIN_EPOCH + TEST_EPOCH):\n",
    "    input_target_sample = generateFn()\n",
    "    input_color = [random.random() for color in range(INPUT_COLOR_DIMENSION)]\n",
    "    correct_count = 0\n",
    "    feed_stopped = False\n",
    "    \n",
    "    for t in range(LIGHT_EXPOSURE_TIME + WAITING_TIME):\n",
    "        output_vector_prev = output_vector_list_prev.pop(0)\n",
    "        input_env = [input_env[env] + 2*random.random()*INPUT_ENV_VOLATILITY - INPUT_ENV_VOLATILITY for env in range(INPUT_ENV_DIMENSION)]\n",
    "        \n",
    "        if t < LIGHT_EXPOSURE_TIME:\n",
    "            input_vector = [*input_target_sample[\"input_color\"], *input_env, *output_vector_prev]\n",
    "        else:\n",
    "            input_vector = [*[0 for color in range(INPUT_COLOR_DIMENSION)], *input_env, *output_vector_prev]\n",
    "        \n",
    "        target_vector = input_target_sample[\"target_vector\"]\n",
    "        \n",
    "        a._propagateForward(input_vector)\n",
    "        \n",
    "        if a.lossFn(a.h[-1],[*target_vector, *a.h[-1][OUPUT_MOVEMENT_DIMENSION:]]) < CORRECT_LOSS_LIMIT:\n",
    "            if correct_count > LIGHT_EXPOSURE_TIME:\n",
    "                feed_stopped = True\n",
    "            else:\n",
    "                correct_count += 1\n",
    "                    \n",
    "        if not feed_stopped and ep < TRAIN_EPOCH:\n",
    "            a._propagateBackward([*target_vector, *a.h[-1][OUPUT_MOVEMENT_DIMENSION:]])\n",
    "            \n",
    "        s.printAfterErase(f\"iteration : {ep+1}; time : {t+1} ; loss : {a.lossFn(a.h[-1],[*target_vector, *a.h[-1][OUPUT_MOVEMENT_DIMENSION:]])}     \")\n",
    "        wr.writerow([ep*(LIGHT_EXPOSURE_TIME + WAITING_TIME)+t+1,\n",
    "                     ep+1,\n",
    "                     target_vector[0]+2*target_vector[1], # none: 0, r: 1, b: 2\n",
    "                     input_env[0],\n",
    "                     t+1,\n",
    "                     a.lossFn(a.h[-1],[*target_vector, *a.h[-1][OUPUT_MOVEMENT_DIMENSION:]]),\n",
    "                     1 if feed_stopped else 0,\n",
    "                     correct_count\n",
    "                     ])\n",
    "        a.saveHeatmap(f\"output/{SAVE_HEATMAP_FILE_NAME}/{s.fillZero(ep*(LIGHT_EXPOSURE_TIME + WAITING_TIME)+t+1,5)}.png\")\n",
    "        output_vector_list_prev.append(copy.deepcopy(a.h[-1]))\n",
    "\n",
    "f.close()\n",
    "print(\"\\nDone\")\n",
    "# clear_output()"
   ]
  },
  {
   "cell_type": "markdown",
   "metadata": {},
   "source": [
    "convert output images into video"
   ]
  },
  {
   "cell_type": "code",
   "execution_count": null,
   "metadata": {},
   "outputs": [],
   "source": [
    "p.pngToMp4(f\"output/{SAVE_HEATMAP_FILE_NAME}\",f\"output/{SAVE_HEATMAP_FILE_NAME}\")"
   ]
  }
 ],
 "metadata": {
  "kernelspec": {
   "display_name": "Python 3",
   "language": "python",
   "name": "python3"
  },
  "language_info": {
   "codemirror_mode": {
    "name": "ipython",
    "version": 3
   },
   "file_extension": ".py",
   "mimetype": "text/x-python",
   "name": "python",
   "nbconvert_exporter": "python",
   "pygments_lexer": "ipython3",
   "version": "3.12.0"
  }
 },
 "nbformat": 4,
 "nbformat_minor": 2
}
